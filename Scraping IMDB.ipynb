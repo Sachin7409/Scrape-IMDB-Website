{
 "cells": [
  {
   "cell_type": "code",
   "execution_count": 1,
   "id": "74c8a7b6",
   "metadata": {},
   "outputs": [],
   "source": [
    "#importing libraries\n",
    "\n",
    "import pandas as pd\n",
    "import requests\n",
    "from bs4 import BeautifulSoup\n",
    "import csv"
   ]
  },
  {
   "cell_type": "code",
   "execution_count": 2,
   "id": "88115497",
   "metadata": {},
   "outputs": [],
   "source": [
    "# Provide url of website to get html code \n",
    "url='https://www.imdb.com/search/title/?count=100&groups=top_1000&sort=user_rating'\n",
    "\n",
    "# result variable will store the html code\n",
    "result=requests.get(url)\n",
    "\n",
    "#beautifulSoup will parse the html content\n",
    "soup=BeautifulSoup(result.content,'html.parser')"
   ]
  },
  {
   "cell_type": "code",
   "execution_count": 3,
   "id": "9f478774",
   "metadata": {},
   "outputs": [],
   "source": [
    "#declaring the empty list to store the data\n",
    "\n",
    "title=[]\n",
    "release=[]\n",
    "genre=[]\n",
    "ratings=[]\n",
    "crtificate=[]\n",
    "votes=[]\n",
    "gross=[]\n",
    "duration=[]"
   ]
  },
  {
   "cell_type": "code",
   "execution_count": 4,
   "id": "6b40fa0b",
   "metadata": {},
   "outputs": [],
   "source": [
    "movie_data=soup.findAll('div',attrs={'class':'lister-item mode-advanced'})"
   ]
  },
  {
   "cell_type": "code",
   "execution_count": 5,
   "id": "f77dd5b8",
   "metadata": {},
   "outputs": [],
   "source": [
    "for store in movie_data:\n",
    "    name=store.h3.a.text\n",
    "    title.append(name)\n",
    "    \n",
    "    year=store.h3.find('span',class_='lister-item-year text-muted unbold').text.replace('(','').replace(')','')\n",
    "    release.append(year)\n",
    "    \n",
    "    group=store.p.find('span',class_='genre').text.replace('\\n','')\n",
    "    genre.append(group)\n",
    "    \n",
    "    rate=store.find('div',class_='inline-block ratings-imdb-rating').text.replace('\\n','')\n",
    "    ratings.append(rate)\n",
    "    \n",
    "    #I used if else because if there is no value for certification then it will return none object error\n",
    "    certificat=store.p.find('span',class_='certificate').text if store.find('span',class_='certificate') else 'N/A'\n",
    "    crtificate.append(certificat)\n",
    "    \n",
    "    value=store.find_all('span', attrs={'name':'nv'})\n",
    "    vote=value[0].text\n",
    "    votes.append(vote)\n",
    "    \n",
    "    gros=value[1].text if len(value)>1 else 'N/A'\n",
    "    gross.append(gros)\n",
    "    \n",
    "    runtime=store.p.find('span',class_='runtime').text\n",
    "    duration.append(runtime)"
   ]
  },
  {
   "cell_type": "code",
   "execution_count": 6,
   "id": "57ae36a3",
   "metadata": {},
   "outputs": [],
   "source": [
    "# Creating dataFrame and columns using dictionary\n",
    "\n",
    "movie_DF = pd.DataFrame({'Name of movie':title,'Release Year':release,'Genre':genre,'Rating':ratings,'Certificate':crtificate,'Public Votes':votes,'Budget': gross,'Watchtime':duration})"
   ]
  },
  {
   "cell_type": "code",
   "execution_count": 7,
   "id": "e9eb03a4",
   "metadata": {},
   "outputs": [],
   "source": [
    "movie_DF.to_csv('movie_database',header= False, index=True)"
   ]
  },
  {
   "cell_type": "code",
   "execution_count": null,
   "id": "176f7c6d",
   "metadata": {},
   "outputs": [],
   "source": []
  }
 ],
 "metadata": {
  "kernelspec": {
   "display_name": "Python 3",
   "language": "python",
   "name": "python3"
  },
  "language_info": {
   "codemirror_mode": {
    "name": "ipython",
    "version": 3
   },
   "file_extension": ".py",
   "mimetype": "text/x-python",
   "name": "python",
   "nbconvert_exporter": "python",
   "pygments_lexer": "ipython3",
   "version": "3.8.8"
  }
 },
 "nbformat": 4,
 "nbformat_minor": 5
}
